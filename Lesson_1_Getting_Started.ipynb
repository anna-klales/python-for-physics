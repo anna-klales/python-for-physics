{
  "nbformat": 4,
  "nbformat_minor": 0,
  "metadata": {
    "colab": {
      "name": "Lesson 1: Getting Started.ipynb",
      "provenance": [],
      "collapsed_sections": [],
      "include_colab_link": true
    },
    "kernelspec": {
      "name": "python3",
      "display_name": "Python 3"
    }
  },
  "cells": [
    {
      "cell_type": "markdown",
      "metadata": {
        "id": "view-in-github",
        "colab_type": "text"
      },
      "source": [
        "<a href=\"https://colab.research.google.com/github/anna-klales/python-for-physics/blob/master/Lesson_1_Getting_Started.ipynb\" target=\"_parent\"><img src=\"https://colab.research.google.com/assets/colab-badge.svg\" alt=\"Open In Colab\"/></a>"
      ]
    },
    {
      "cell_type": "markdown",
      "metadata": {
        "id": "Umik01pt3vPK",
        "colab_type": "text"
      },
      "source": [
        "# Read me First\n",
        "\n",
        "Learning to write even just a tiny bit of code is an extremely useful skill and an important tool for all types of scientists.  Why?  Well, computers are great for performing long and tedious mathematical tasks so that you don't have to!  Before computers were invented, [these tasks were performed by groups of people - often women](https://en.wikipedia.org/wiki/Computer_(job_description)) - who sat in a room together and crunched numbers.\n",
        "\n",
        "![alt text](https://upload.wikimedia.org/wikipedia/commons/9/93/L_Dorothy_Vaughan_M_Lessie_Hunter_R_Vivian_Adair.jpg)\n",
        "\n",
        "We will mostly be using Python in this class for two purposes:\n",
        "\n",
        "1.  To elminate the need for a calculator, making mathematical calculations easier (graphing calculators are annoying and expensive)\n",
        "2.  To visualize and analyze data in lab (ie make plots and fit curves, find averages, etc)\n",
        "\n",
        "\n",
        "This tutorial is meant to get you up and running with Python using Google Colab as quickly as possible.  It is specifically tailored for the work that you'll do in S1b, but it is by no means comprehensive; if it were, it would be horribly unbearable! (If you already have some experience coding, you'll be able to just blast through these exercises in no time.)\n",
        "\n",
        "To get the most out of this tutorial, follow along and try everything out in this notebook or a new one.  Don't be afraid to play around or try your own things - this is the best way to learn and it's the most fun. If you're worried you'll break your computer, I promise you won't!"
      ]
    },
    {
      "cell_type": "markdown",
      "metadata": {
        "id": "5h6AvmiM4ZcI",
        "colab_type": "text"
      },
      "source": [
        "# Learning Objectives\n",
        "\n",
        "After this tutorial, you should be able to...\n",
        "\n",
        "\n",
        "*   Import libraries and use functions from those libraries\n",
        "*   Define a variable\n",
        "*   Use print statements\n",
        "*   Add a comment to your code\n",
        "*   Write a little script to compute something that's annoying to plug into your calculator\n",
        "\n",
        "\n",
        "\n",
        "\n",
        "\n"
      ]
    },
    {
      "cell_type": "markdown",
      "metadata": {
        "id": "4bCoHpDypx6s",
        "colab_type": "text"
      },
      "source": [
        "# Python as a calculator with libraries\n",
        "\n",
        "Python functions as a calculator.  Add a code cell below and add 3 and 2 by typing 3+2 and pressing shift+enter."
      ]
    },
    {
      "cell_type": "code",
      "metadata": {
        "id": "OAiMf2Amp9_O",
        "colab_type": "code",
        "outputId": "fe69a7c7-48f9-4b64-b685-0945f00a1251",
        "colab": {
          "base_uri": "https://localhost:8080/",
          "height": 34
        }
      },
      "source": [
        "3+2"
      ],
      "execution_count": 0,
      "outputs": [
        {
          "output_type": "execute_result",
          "data": {
            "text/plain": [
              "5"
            ]
          },
          "metadata": {
            "tags": []
          },
          "execution_count": 1
        }
      ]
    },
    {
      "cell_type": "markdown",
      "metadata": {
        "id": "OGa4i0qcqC9I",
        "colab_type": "text"
      },
      "source": [
        "See how it spit out the answer, which I hope was 5!?  You can also assign values to **variables**, like this:\n",
        "\n",
        "```\n",
        "a = 3\n",
        "b = 2\n",
        "\n",
        "a+b\n",
        "```\n",
        "\n",
        "Here a and b are like little containers or jars that hold your numbers.  You can change what's in the jar by reassigning it:\n",
        "\n",
        "```\n",
        "a=7,\n",
        "```\n",
        "\n",
        "or find out what the jar contains using a print statement:\n",
        "\n",
        "``` print(a).```\n",
        "\n",
        "The humble print statment is one of the most useful tools you have, because it lets you check your work.  I have a mantra I would like you to consider:\n",
        "\n",
        "\n",
        "# **WHEN IN DOUBT, PRINT IT OUT!**\n",
        "\n"
      ]
    },
    {
      "cell_type": "markdown",
      "metadata": {
        "id": "Zx03YpNfqVjC",
        "colab_type": "text"
      },
      "source": [
        "What if we want to compute the sine of $\\pi/2$?  Turns out we need a special sine function that lives in a library called numpy.  (Your calculator does the exact same thing; you get the function by pressing the sin button on your calculator.) We don't automatically have access to that library, so we have to import it, like this:"
      ]
    },
    {
      "cell_type": "code",
      "metadata": {
        "id": "kf4kt9aNqb4p",
        "colab_type": "code",
        "colab": {}
      },
      "source": [
        "import numpy as np"
      ],
      "execution_count": 0,
      "outputs": []
    },
    {
      "cell_type": "markdown",
      "metadata": {
        "id": "p6THm-wCqvr-",
        "colab_type": "text"
      },
      "source": [
        "This imports the library numpy and gives it a nickname, np.  To call a function from that library, like the sine function, you type:\n",
        "\n",
        "```\n",
        "np.sin(3.14/2).\n",
        "```\n",
        "\n",
        "Try it.  Is the answer correct?"
      ]
    },
    {
      "cell_type": "code",
      "metadata": {
        "id": "Tv1XShy0q4gl",
        "colab_type": "code",
        "colab": {}
      },
      "source": [
        ""
      ],
      "execution_count": 0,
      "outputs": []
    },
    {
      "cell_type": "markdown",
      "metadata": {
        "id": "abzgxHbFrFSx",
        "colab_type": "text"
      },
      "source": [
        "Hmmm, that number is almost one, but 3.14 is only almost $\\pi$.  Numpy also stores the value of $\\pi$:"
      ]
    },
    {
      "cell_type": "code",
      "metadata": {
        "id": "h1lpIEsorLjl",
        "colab_type": "code",
        "outputId": "e551b87a-6f83-48c9-9dd9-f237a46cf3d5",
        "colab": {
          "base_uri": "https://localhost:8080/",
          "height": 34
        }
      },
      "source": [
        "np.sin(np.pi/2)"
      ],
      "execution_count": 0,
      "outputs": [
        {
          "output_type": "execute_result",
          "data": {
            "text/plain": [
              "1.0"
            ]
          },
          "metadata": {
            "tags": []
          },
          "execution_count": 7
        }
      ]
    },
    {
      "cell_type": "markdown",
      "metadata": {
        "id": "BpdpWlNLuYw6",
        "colab_type": "text"
      },
      "source": [
        "Here are some common mathematical functions you'll need:\n",
        "\n",
        "![alt text](https://drive.google.com/uc?id=1icQqvcj1j5oel1J8SJho6jnLEypDgkac)\n"
      ]
    },
    {
      "cell_type": "markdown",
      "metadata": {
        "id": "1YUAiPCL6YWH",
        "colab_type": "text"
      },
      "source": [
        "# Whitespace\n",
        "\n",
        "Unlike most programming languages, Python is particular about whitespace, meaning spaces and tabs.  The following code is going to \"throw an error.\"  Try it!  Can you fix it?  "
      ]
    },
    {
      "cell_type": "code",
      "metadata": {
        "id": "e0m6z-yq7Cht",
        "colab_type": "code",
        "outputId": "dc405329-d832-4def-f3c5-83b52ac669f8",
        "colab": {
          "base_uri": "https://localhost:8080/",
          "height": 130
        }
      },
      "source": [
        "a = 2\n",
        " b = -3\n",
        "\n",
        "c = a + b\n",
        "\n",
        "print(c)"
      ],
      "execution_count": 0,
      "outputs": [
        {
          "output_type": "error",
          "ename": "IndentationError",
          "evalue": "ignored",
          "traceback": [
            "\u001b[0;36m  File \u001b[0;32m\"<ipython-input-2-3c5324d97130>\"\u001b[0;36m, line \u001b[0;32m2\u001b[0m\n\u001b[0;31m    b = -3\u001b[0m\n\u001b[0m    ^\u001b[0m\n\u001b[0;31mIndentationError\u001b[0m\u001b[0;31m:\u001b[0m unexpected indent\n"
          ]
        }
      ]
    },
    {
      "cell_type": "markdown",
      "metadata": {
        "id": "hd7V74CSLLMP",
        "colab_type": "text"
      },
      "source": [
        "\n",
        "\n",
        "---\n"
      ]
    },
    {
      "cell_type": "markdown",
      "metadata": {
        "id": "B9bMspuP1xmM",
        "colab_type": "text"
      },
      "source": [
        "# Example 1\n",
        "\n",
        "Suppose some math teacher asks for the solutions to \n",
        "$$0 = 6x^2 - 3x - 4,$$ and then gives you 8 more questions of the same type. \n",
        "\n",
        "To solve this, you know you need to use the [quadratic formula](https://en.wikipedia.org/wiki/Quadratic_formula), which says that if your function is \n",
        "\n",
        "$$0 = ax^2 + bx + c,$$\n",
        "\n",
        "the solutions are \n",
        "$$x = \\frac{-b\\pm \\sqrt{b^2-4ac}}{2a}.$$\n",
        "\n",
        "This is a real pain to enter into your calculator, but you know a little Python, so you write the following bit of code:\n",
        "\n",
        "\n",
        "\n"
      ]
    },
    {
      "cell_type": "code",
      "metadata": {
        "id": "lZPOdyk41yXe",
        "colab_type": "code",
        "outputId": "22b1929e-1004-468c-afbd-35585c696af7",
        "colab": {
          "base_uri": "https://localhost:8080/",
          "height": 51
        }
      },
      "source": [
        "a = 6   # Coefficient of x^2 \n",
        "b = -3  # Coefficient of x^1\n",
        "c = -4  # Coefficient of x^0\n",
        "\n",
        "\n",
        "# Calculate both roots:\n",
        "x1 = (-b+np.sqrt(b**2-4*a*c))/(2*a)\n",
        "x2 = (-b-np.sqrt(b**2-4*a*c))/(2*a)\n",
        "\n",
        "\n",
        "# Print out the answers:\n",
        "print(x1)\n",
        "print(x2)"
      ],
      "execution_count": 0,
      "outputs": [
        {
          "output_type": "stream",
          "text": [
            "1.1039125638299665\n",
            "-0.6039125638299665\n"
          ],
          "name": "stdout"
        }
      ]
    },
    {
      "cell_type": "markdown",
      "metadata": {
        "id": "GLUAvFQntl1f",
        "colab_type": "text"
      },
      "source": [
        "Now all you have to do to find the solutions to all 8 problems is change the values of a, b and c at the top of your code, and run the little cell again."
      ]
    },
    {
      "cell_type": "markdown",
      "metadata": {
        "id": "DccnSN7kLb9H",
        "colab_type": "text"
      },
      "source": [
        "\n",
        "\n",
        "---\n",
        "\n",
        "\n",
        "\n",
        "---\n",
        "\n"
      ]
    },
    {
      "cell_type": "markdown",
      "metadata": {
        "id": "KRA5PAONtv37",
        "colab_type": "text"
      },
      "source": [
        "# Exercise 1\n",
        "\n",
        "Write a little bit of code you can use to compute the hypotenuse of a right triangle using the [pythagorean theorem](https://en.wikipedia.org/wiki/Pythagorean_theorem)."
      ]
    },
    {
      "cell_type": "code",
      "metadata": {
        "id": "PXYcKNVsuLbJ",
        "colab_type": "code",
        "colab": {}
      },
      "source": [
        ""
      ],
      "execution_count": 0,
      "outputs": []
    },
    {
      "cell_type": "markdown",
      "metadata": {
        "id": "T_0JCk0RuOwt",
        "colab_type": "text"
      },
      "source": [
        "# Exercise 2\n",
        "\n",
        "When I'm working on this course I keep a script around that imports commonly used libraries and defines all of the constants I use frequently, since they tend to be cumbersome numbers.  Here are some of them:\n",
        "\n",
        "```\n",
        "import numpy as np\n",
        "import matplotlib.pyplot as plt\n",
        "from scipy.optimize import curve_fit\n",
        "\n",
        "g = 9.81                        # Acceleration of gravity on earth's surface [m/s^2]\n",
        "qp = 1.6 * 10**(-19)            # Charge of the proton  [C]\n",
        "qe = -qp                        # Charge of the electron [C]\n",
        "epsilon_0 = 8.85 * 10**(-12)    # Permitivity of free space [C^2/(Nm^2)]\n",
        "k = 1/(4*np.pi*epsilon_0)       # Coulomb's constant [Nm^2/C^2]\n",
        "```\n",
        "\n",
        "I simply copy this cell into a new notebook whenever I need to compute anything in this course.  Define your constants below, and use them to compute the magnitude of the force between two charges when you're doing your Sapling.  \n",
        "\n"
      ]
    },
    {
      "cell_type": "code",
      "metadata": {
        "id": "9ftNWUJk8XeZ",
        "colab_type": "code",
        "colab": {}
      },
      "source": [
        ""
      ],
      "execution_count": 0,
      "outputs": []
    }
  ]
}